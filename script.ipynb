{
 "cells": [
  {
   "cell_type": "code",
   "execution_count": null,
   "metadata": {},
   "outputs": [],
   "source": [
    "import pandas as pd\n",
    "import warnings"
   ]
  },
  {
   "cell_type": "code",
   "execution_count": null,
   "metadata": {},
   "outputs": [],
   "source": [
    "warnings.filterwarnings('ignore')\n",
    "\n",
    "data = 'covid_19_clean_complete.csv'\n",
    "df = pd.read_csv(data, sep=',', parse_dates=['Date'])"
   ]
  },
  {
   "cell_type": "code",
   "execution_count": null,
   "metadata": {},
   "outputs": [],
   "source": [
    "df.head(10)"
   ]
  },
  {
   "cell_type": "code",
   "execution_count": null,
   "metadata": {},
   "outputs": [],
   "source": [
    "df.info()"
   ]
  },
  {
   "cell_type": "code",
   "execution_count": null,
   "metadata": {},
   "outputs": [],
   "source": [
    "df['Active'] = df['Confirmed'] - df['Deaths'] - df['Recovered']    # Active cases"
   ]
  },
  {
   "cell_type": "markdown",
   "metadata": {},
   "source": [
    "**Normalization**"
   ]
  },
  {
   "cell_type": "code",
   "execution_count": null,
   "metadata": {},
   "outputs": [],
   "source": [
    "df['Country/Region'] = df['Country/Region'].replace('Mainland China', 'China')\n",
    "df[['Province/State']] = df[['Province/State']].fillna('')\n",
    "df[['Confirmed', 'Deaths', 'Recovered', 'Active']] = df[['Confirmed', 'Deaths', 'Recovered', 'Active']].fillna(0)"
   ]
  },
  {
   "cell_type": "code",
   "execution_count": null,
   "metadata": {},
   "outputs": [],
   "source": [
    "df.head()"
   ]
  },
  {
   "cell_type": "markdown",
   "metadata": {},
   "source": [
    "**Grouping data**"
   ]
  },
  {
   "cell_type": "code",
   "execution_count": null,
   "metadata": {},
   "outputs": [],
   "source": [
    "df_group = df.groupby(['Date', 'Country/Region'])['Confirmed', 'Deaths', 'Recovered', 'Active'].sum().reset_index()\n",
    "df_group.sort_values(by='Confirmed', ascending=False)"
   ]
  },
  {
   "cell_type": "code",
   "execution_count": null,
   "metadata": {},
   "outputs": [],
   "source": [
    "temp = df.groupby('Date')['Recovered', 'Deaths', 'Active'].sum().reset_index()\n",
    "temp = temp.melt(id_vars=\"Date\", value_vars=['Recovered', 'Deaths', 'Active'],\n",
    "                 var_name='Case', value_name='Count')\n",
    "temp.head()"
   ]
  },
  {
   "cell_type": "markdown",
   "metadata": {},
   "source": [
    "**(PLOT)** - Cases over time"
   ]
  },
  {
   "cell_type": "code",
   "execution_count": null,
   "metadata": {},
   "outputs": [],
   "source": [
    "from plotly.offline import plot, iplot, init_notebook_mode\n",
    "import plotly.io as pio\n",
    "import plotly.express as px\n",
    "\n",
    "init_notebook_mode(connected=True)\n",
    "\n",
    "# Cores\n",
    "recovereds = '#21bf73'\n",
    "deaths = '#ff2e63'\n",
    "actives = '#fe9801'\n",
    "\n",
    "import plotly.express as px\n",
    "fig = px.area(temp, \n",
    "              x=\"Date\", \n",
    "              y=\"Count\", \n",
    "              color='Case', \n",
    "              height=600,\n",
    "              title='Cases over time',\n",
    "              color_discrete_sequence = [recovereds, deaths, actives])\n",
    "fig.update_layout(xaxis_rangeslider_visible=True)\n",
    "fig.show()"
   ]
  },
  {
   "cell_type": "markdown",
   "metadata": {},
   "source": [
    "**(CHOROPLETH MAP)** - Cases over time"
   ]
  },
  {
   "cell_type": "code",
   "execution_count": null,
   "metadata": {},
   "outputs": [],
   "source": [
    "import numpy as np\n",
    "\n",
    "fig = px.choropleth(\n",
    "                    df_group,         \n",
    "                    title='Cases over time',                              \n",
    "                    locations=\"Country/Region\",                                    \n",
    "                    locationmode='country names', \n",
    "    \n",
    "                    color=np.log(df_group[\"Confirmed\"]), \n",
    "                    \n",
    "                    hover_name='Country/Region',                                   \n",
    "                    hover_data=[\"Confirmed\", \"Deaths\"],\n",
    "                    \n",
    "                    animation_frame=df_group[\"Date\"].dt.strftime('%d-%m-%Y'),   \n",
    "                    color_continuous_scale=px.colors.sequential.Magenta)           \n",
    "fig.update_layout(autosize=False, width=800, height=600)                          \n",
    "fig.show()"
   ]
  },
  {
   "cell_type": "markdown",
   "metadata": {},
   "source": [
    "**(CHOROPLETH MAP)** - Deaths over time"
   ]
  },
  {
   "cell_type": "code",
   "execution_count": null,
   "metadata": {},
   "outputs": [],
   "source": [
    "fig = px.choropleth(\n",
    "                    df_group,   \n",
    "                    title='Deaths over time',                               \n",
    "                    locations=\"Country/Region\",                                    \n",
    "                    locationmode='country names', \n",
    "    \n",
    "                    color=np.log(df_group[\"Deaths\"]), \n",
    "    \n",
    "                    hover_name='Country/Region',                                   \n",
    "                    hover_data=[\"Confirmed\", \"Deaths\"], \n",
    "    \n",
    "                    animation_frame=df_group[\"Date\"].dt.strftime('%d-%m-%Y'),  \n",
    "                    color_continuous_scale=px.colors.sequential.Magenta)           \n",
    "fig.update_layout(autosize=False, width=800, height=600)\n",
    "fig.show()"
   ]
  },
  {
   "cell_type": "markdown",
   "metadata": {},
   "source": [
    "**(PANEL)** - Last day cases"
   ]
  },
  {
   "cell_type": "code",
   "execution_count": null,
   "metadata": {},
   "outputs": [],
   "source": [
    "import plotly.figure_factory as ff\n",
    "from plotly.subplots import make_subplots\n",
    "\n",
    "last_day = df[df['Date'] == max(df['Date'])]\n",
    "last_day.head()"
   ]
  },
  {
   "cell_type": "code",
   "execution_count": null,
   "metadata": {
    "scrolled": false
   },
   "outputs": [],
   "source": [
    "fig = px.treemap(last_day.sort_values(by='Confirmed', ascending=False).reset_index(drop=True), \n",
    "                 path=[\"Country/Region\", \"Province/State\"],\n",
    "                 values=\"Confirmed\",\n",
    "                 height=600,\n",
    "                 title='Number of confirmed cases',\n",
    "                 color_discrete_sequence = px.colors.qualitative.Dark2)\n",
    "fig.data[0].textinfo = 'label+text+value'\n",
    "fig.show()"
   ]
  },
  {
   "cell_type": "markdown",
   "metadata": {},
   "source": [
    "**(PANEL)** - Last day deaths"
   ]
  },
  {
   "cell_type": "code",
   "execution_count": null,
   "metadata": {},
   "outputs": [],
   "source": [
    "fig = px.treemap(last_day.sort_values(by='Deaths', ascending=False).reset_index(drop=True), \n",
    "                 path=[\"Country/Region\", \"Province/State\"],\n",
    "                 values=\"Deaths\",\n",
    "                 height=600,\n",
    "                 title='Number of confirmed deaths',\n",
    "                 color_discrete_sequence = px.colors.qualitative.Dark2)\n",
    "fig.data[0].textinfo = 'label+text+value'\n",
    "fig.show()"
   ]
  },
  {
   "cell_type": "markdown",
   "metadata": {},
   "source": [
    "**(PLOT)** - Cases over time in each country"
   ]
  },
  {
   "cell_type": "code",
   "execution_count": null,
   "metadata": {},
   "outputs": [],
   "source": [
    "fig = px.line(df_group,\n",
    "              x=\"Date\",\n",
    "              y=\"Confirmed\",\n",
    "              color='Country/Region',\n",
    "              height=600,\n",
    "              title='Confirmed cases',\n",
    "              color_discrete_sequence = px.colors.qualitative.Dark2 )\n",
    "fig.show()"
   ]
  },
  {
   "cell_type": "markdown",
   "metadata": {},
   "source": [
    "**(PLOT)** - Deaths over time in each country"
   ]
  },
  {
   "cell_type": "code",
   "execution_count": null,
   "metadata": {},
   "outputs": [],
   "source": [
    "fig = px.line(df_group,\n",
    "              x=\"Date\",\n",
    "              y=\"Deaths\",\n",
    "              color='Country/Region',\n",
    "              height=600,\n",
    "              title='Confirmed deaths',\n",
    "              color_discrete_sequence = px.colors.qualitative.Dark2)\n",
    "fig.show()"
   ]
  },
  {
   "cell_type": "markdown",
   "metadata": {},
   "source": [
    "**(MAP WITH FOLIUM)** - Last day cases in each county"
   ]
  },
  {
   "cell_type": "code",
   "execution_count": null,
   "metadata": {},
   "outputs": [],
   "source": [
    "last_day = df[df['Date'] == max(df['Date'])]\n",
    "\n",
    "import folium\n",
    "\n",
    "world_map = folium.Map(location=[0, 0], tiles='cartodbpositron',\n",
    "               min_zoom=1, max_zoom=4, zoom_start=1)\n",
    "\n",
    "for i in range(0, len(last_day)):\n",
    "    folium.Circle(\n",
    "        location=[last_day.iloc[i]['Lat'], last_day.iloc[i]['Long']],\n",
    "        color='crimson', fill='crimson',\n",
    "        tooltip =   '<li><bold>Country : '+str(last_day.iloc[i]['Country/Region'])+\n",
    "                    '<li><bold>Province : '+str(last_day.iloc[i]['Province/State'])+\n",
    "                    '<li><bold>Confirmed : '+str(last_day.iloc[i]['Confirmed'])+\n",
    "                    '<li><bold>Deaths : '+str(last_day.iloc[i]['Deaths']),\n",
    "        radius=int(last_day.iloc[i]['Confirmed'])**1.1).add_to(world_map)\n",
    "world_map"
   ]
  }
 ],
 "metadata": {
  "kernelspec": {
   "display_name": "Python 3",
   "language": "python",
   "name": "python3"
  },
  "language_info": {
   "codemirror_mode": {
    "name": "ipython",
    "version": 3
   },
   "file_extension": ".py",
   "mimetype": "text/x-python",
   "name": "python",
   "nbconvert_exporter": "python",
   "pygments_lexer": "ipython3",
   "version": "3.7.4"
  }
 },
 "nbformat": 4,
 "nbformat_minor": 2
}
